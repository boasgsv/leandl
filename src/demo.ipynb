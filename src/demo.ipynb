{
 "cells": [
  {
   "cell_type": "code",
   "execution_count": 1,
   "id": "f4a9e6bf",
   "metadata": {},
   "outputs": [
    {
     "name": "stderr",
     "output_type": "stream",
     "text": [
      "/home/gsvboas/miniconda3/envs/leandl_env/lib/python3.10/site-packages/tqdm/auto.py:21: TqdmWarning: IProgress not found. Please update jupyter and ipywidgets. See https://ipywidgets.readthedocs.io/en/stable/user_install.html\n",
      "  from .autonotebook import tqdm as notebook_tqdm\n"
     ]
    },
    {
     "name": "stdout",
     "output_type": "stream",
     "text": [
      "🦥 Unsloth: Will patch your computer to enable 2x faster free finetuning.\n",
      "🦥 Unsloth Zoo will now patch everything to make training faster!\n"
     ]
    }
   ],
   "source": [
    "import sys, os, importlib\n",
    "sys.path.append(os.path.join('/home/gsvboas/leandl'))\n",
    "import src.engines as e\n",
    "import src.pipelines as p\n",
    "import src.wrappers as w\n",
    "import src.utils as u\n",
    "import pandas as pd\n",
    "\n",
    "importlib.reload(p)\n",
    "importlib.reload(e)\n",
    "importlib.reload(w)\n",
    "importlib.reload(u)\n",
    "\n",
    "data = u.DataLoader.load_baf()\n",
    "builder = p.PreprocessingBuilder()\n",
    "inference = e.InferenceEngine()\n",
    "evaluator = e.EvaluationEngine()\n",
    "validator = e.ValidationEngine()\n",
    "parser = e.ParsingEngine()\n",
    "\n",
    "dumper = e.DumpingEngine()\n",
    "logger = e.LoggingEngine()\n",
    "preprocessing = p.PreprocessingPipeline(builder=builder)\n",
    "training = p.TrainingPipeline(\n",
    "    validator=validator,\n",
    "    evaluator=evaluator,\n",
    "    inference=inference,\n",
    "    parser=parser,\n",
    "    dumper=dumper,\n",
    "    logger=logger,\n",
    ")\n",
    "\n",
    "X_train, y_train, \\\n",
    "X_test, y_test, \\\n",
    "X_vl, y_vl = preprocessing.run(data=data, train_sample_size_cap=1000, vl_sample_size=20)"
   ]
  },
  {
   "cell_type": "code",
   "execution_count": null,
   "id": "6334b08b",
   "metadata": {},
   "outputs": [
    {
     "name": "stdout",
     "output_type": "stream",
     "text": [
      "==((====))==  Unsloth 2025.8.4: Fast Llama patching. Transformers: 4.55.1.\n",
      "   \\\\   /|    NVIDIA GeForce RTX 3060. Num GPUs = 1. Max memory: 11.747 GB. Platform: Linux.\n",
      "O^O/ \\_/ \\    Torch: 2.7.1+cu126. CUDA: 8.6. CUDA Toolkit: 12.6. Triton: 3.3.1\n",
      "\\        /    Bfloat16 = TRUE. FA [Xformers = 0.0.31.post1. FA2 = False]\n",
      " \"-____-\"     Free license: http://github.com/unslothai/unsloth\n",
      "Unsloth: Fast downloading is enabled - ignore downloading bars which are red colored!\n"
     ]
    },
    {
     "name": "stderr",
     "output_type": "stream",
     "text": [
      "<string>:37: UserWarning: You passed `quantization_config` or equivalent parameters to `from_pretrained` but the model you're loading already has a `quantization_config` attribute. The `quantization_config` from the model will be used.\n",
      "Unsloth 2025.8.4 patched 32 layers with 32 QKV layers, 32 O layers and 32 MLP layers.\n",
      "Unsloth: Tokenizing [\"text\"] (num_proc=2): 100%|██████████| 1000/1000 [00:01<00:00, 596.37 examples/s]\n"
     ]
    },
    {
     "name": "stdout",
     "output_type": "stream",
     "text": [
      "Starting cycle 0...\n"
     ]
    },
    {
     "name": "stderr",
     "output_type": "stream",
     "text": [
      "==((====))==  Unsloth - 2x faster free finetuning | Num GPUs used = 1\n",
      "   \\\\   /|    Num examples = 1,000 | Num Epochs = 1 | Total steps = 10\n",
      "O^O/ \\_/ \\    Batch size per device = 2 | Gradient accumulation steps = 4\n",
      "\\        /    Data Parallel GPUs = 1 | Total batch size (2 x 4 x 1) = 8\n",
      " \"-____-\"     Trainable parameters = 41,943,040 of 8,072,204,288 (0.52% trained)\n"
     ]
    },
    {
     "name": "stdout",
     "output_type": "stream",
     "text": [
      "Unsloth: Will smartly offload gradients to save VRAM!\n"
     ]
    }
   ],
   "source": [
    "outputs = training.run(\n",
    "    X_train=X_train, y_train=y_train,\n",
    "    X_vl=X_vl, y_vl=y_vl,\n",
    "    cycles=50,\n",
    "    num_inferences=1\n",
    ")"
   ]
  }
 ],
 "metadata": {
  "kernelspec": {
   "display_name": "leandl_env",
   "language": "python",
   "name": "python3"
  },
  "language_info": {
   "codemirror_mode": {
    "name": "ipython",
    "version": 3
   },
   "file_extension": ".py",
   "mimetype": "text/x-python",
   "name": "python",
   "nbconvert_exporter": "python",
   "pygments_lexer": "ipython3",
   "version": "3.10.18"
  }
 },
 "nbformat": 4,
 "nbformat_minor": 5
}
